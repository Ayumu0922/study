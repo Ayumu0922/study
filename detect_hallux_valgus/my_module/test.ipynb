{
 "cells": [
  {
   "cell_type": "code",
   "execution_count": 3,
   "metadata": {},
   "outputs": [
    {
     "data": {
      "text/plain": [
       "True"
      ]
     },
     "execution_count": 3,
     "metadata": {},
     "output_type": "execute_result"
    }
   ],
   "source": [
    "import cv2\n",
    "import matplotlib\n",
    "\n",
    "\n",
    "image = cv2.imread(\n",
    "    \"/home/kubota/study/segment-anything/output/clahe_img/part1.png\",\n",
    "    cv2.IMREAD_GRAYSCALE,\n",
    ")\n",
    "ret, binary = cv2.threshold(src=image, thresh=30, maxval=255, type=cv2.THRESH_BINARY)\n",
    "\n",
    "cv2.imwrite(\"bianry.png\", binary)"
   ]
  },
  {
   "cell_type": "code",
   "execution_count": 3,
   "metadata": {},
   "outputs": [
    {
     "name": "stdout",
     "output_type": "stream",
     "text": [
      "[[ 500  375]\n",
      " [1125  625]]\n"
     ]
    }
   ],
   "source": [
    "import numpy as np\n",
    "\n",
    "input_point = np.array([[500, 375], [1125, 625]])\n",
    "print(input_point)"
   ]
  },
  {
   "cell_type": "code",
   "execution_count": 9,
   "metadata": {},
   "outputs": [
    {
     "name": "stdout",
     "output_type": "stream",
     "text": [
      "(((840, 1071), (1373, 1066)), ((702, 1071), (1515, 1066)), ((858, 739), (1321, 737)), ((503, 1252), (1723, 1245)))\n",
      "[[ 840 1071]\n",
      " [1373 1066]\n",
      " [ 702 1071]\n",
      " [1515 1066]\n",
      " [ 858  739]\n",
      " [1321  737]\n",
      " [ 503 1252]\n",
      " [1723 1245]]\n"
     ]
    }
   ],
   "source": [
    "prompt = (\n",
    "    ((840, 1071), (1373, 1066)),\n",
    "    ((702, 1071), (1515, 1066)),\n",
    "    ((858, 739), (1321, 737)),\n",
    "    ((503, 1252), (1723, 1245)),\n",
    ")\n",
    "print(prompt)\n",
    "# タプルのリストを平坦化したリストに変換\n",
    "flat_list = [coord for sublist in prompt for pair in sublist for coord in pair]\n",
    "\n",
    "# 平坦化したリストを2次元のNumPy配列に変換\n",
    "input_array = np.array(flat_list).reshape(-1, 2)\n",
    "\n",
    "# 結果を表示\n",
    "print(input_array)"
   ]
  },
  {
   "cell_type": "code",
   "execution_count": null,
   "metadata": {},
   "outputs": [],
   "source": []
  }
 ],
 "metadata": {
  "kernelspec": {
   "display_name": "deeplearning",
   "language": "python",
   "name": "python3"
  },
  "language_info": {
   "codemirror_mode": {
    "name": "ipython",
    "version": 3
   },
   "file_extension": ".py",
   "mimetype": "text/x-python",
   "name": "python",
   "nbconvert_exporter": "python",
   "pygments_lexer": "ipython3",
   "version": "3.11.7"
  }
 },
 "nbformat": 4,
 "nbformat_minor": 2
}
